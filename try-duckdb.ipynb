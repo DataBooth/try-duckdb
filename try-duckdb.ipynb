{
 "cells": [
  {
   "cell_type": "markdown",
   "source": [
    "## Try DuckDB\n",
    "\n",
    "[https://duckdb.org](https://duckdb.org)"
   ],
   "metadata": {}
  },
  {
   "cell_type": "code",
   "execution_count": 1,
   "source": [
    "import sys\n",
    "sys.path"
   ],
   "outputs": [
    {
     "output_type": "execute_result",
     "data": {
      "text/plain": [
       "['/workspace/try-duckdb',\n",
       " '/home/gitpod/.gitpod-code/extensions/ms-python.python-2020.10.332292344/pythonFiles',\n",
       " '/home/gitpod/.gitpod-code/extensions/ms-python.python-2020.10.332292344/pythonFiles/lib/python',\n",
       " '/opt/conda/lib/python39.zip',\n",
       " '/opt/conda/lib/python3.9',\n",
       " '/opt/conda/lib/python3.9/lib-dynload',\n",
       " '',\n",
       " '/workspace/.pip-modules/lib/python3.9/site-packages',\n",
       " '/opt/conda/lib/python3.9/site-packages',\n",
       " '/opt/conda/lib/python3.9/site-packages/IPython/extensions',\n",
       " '/home/gitpod/.ipython']"
      ]
     },
     "metadata": {},
     "execution_count": 1
    }
   ],
   "metadata": {}
  },
  {
   "cell_type": "code",
   "execution_count": 2,
   "source": [
    "import duckdb"
   ],
   "outputs": [],
   "metadata": {}
  },
  {
   "cell_type": "code",
   "execution_count": 3,
   "source": [
    "cursor = duckdb.connect()\n",
    "print(cursor.execute('SELECT 42').fetchall())"
   ],
   "outputs": [
    {
     "output_type": "stream",
     "name": "stdout",
     "text": [
      "[(42,)]\n"
     ]
    }
   ],
   "metadata": {}
  },
  {
   "cell_type": "code",
   "execution_count": 5,
   "source": [
    "import pandas as pd"
   ],
   "outputs": [],
   "metadata": {}
  },
  {
   "cell_type": "code",
   "execution_count": 6,
   "source": [
    "mydf = pd.DataFrame({'a' : [1, 2, 3]})\n",
    "print(duckdb.query(\"SELECT AVG(a) FROM mydf\").to_df())"
   ],
   "outputs": [
    {
     "output_type": "stream",
     "name": "stdout",
     "text": [
      "   avg(a)\n0     2.0\n"
     ]
    }
   ],
   "metadata": {}
  },
  {
   "cell_type": "code",
   "execution_count": 7,
   "source": [
    "!jupyter kernelspec list"
   ],
   "outputs": [
    {
     "output_type": "stream",
     "name": "stdout",
     "text": [
      "Available kernels:\n  base       /home/gitpod/.local/share/jupyter/kernels/base\n  python3    /opt/conda/share/jupyter/kernels/python3\n"
     ]
    }
   ],
   "metadata": {}
  },
  {
   "cell_type": "code",
   "execution_count": null,
   "source": [],
   "outputs": [],
   "metadata": {}
  },
  {
   "cell_type": "code",
   "execution_count": null,
   "metadata": {},
   "outputs": [],
   "source": []
  }
 ],
 "metadata": {
  "interpreter": {
   "hash": "3086ab3d90372c825407b804b6256634f337f6e28cf9335d0f6d2a4e138be96d"
  },
  "kernelspec": {
   "name": "base",
   "display_name": "base"
  },
  "language_info": {
   "name": "python",
   "version": "3.9.5-final",
   "mimetype": "text/x-python",
   "codemirror_mode": {
    "name": "ipython",
    "version": 3
   },
   "pygments_lexer": "ipython3",
   "nbconvert_exporter": "python",
   "file_extension": ".py"
  }
 },
 "nbformat": 4,
 "nbformat_minor": 2
}