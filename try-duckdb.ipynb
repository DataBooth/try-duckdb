{
 "cells": [
  {
   "cell_type": "markdown",
   "source": [
    "## Try DuckDB\n",
    "\n",
    "[https://duckdb.org](https://duckdb.org)"
   ],
   "metadata": {}
  },
  {
   "cell_type": "code",
   "execution_count": 5,
   "source": [
    "import sys\n",
    "sys.path"
   ],
   "outputs": [
    {
     "output_type": "execute_result",
     "data": {
      "text/plain": [
       "['/Users/mjboothaus/code/github/databooth/try-duckdb',\n",
       " '/Users/mjboothaus/.vscode/extensions/ms-toolsai.jupyter-2021.8.1195043623/pythonFiles',\n",
       " '/Users/mjboothaus/.vscode/extensions/ms-toolsai.jupyter-2021.8.1195043623/pythonFiles/lib/python',\n",
       " '/opt/homebrew/Caskroom/mambaforge/base/envs/emmaus_walking_py38/lib/python39.zip',\n",
       " '/opt/homebrew/Caskroom/mambaforge/base/envs/emmaus_walking_py38/lib/python3.9',\n",
       " '/opt/homebrew/Caskroom/mambaforge/base/envs/emmaus_walking_py38/lib/python3.9/lib-dynload',\n",
       " '',\n",
       " '/opt/homebrew/Caskroom/mambaforge/base/envs/emmaus_walking_py38/lib/python3.9/site-packages',\n",
       " '/opt/homebrew/Caskroom/mambaforge/base/envs/emmaus_walking_py38/lib/python3.9/site-packages/IPython/extensions',\n",
       " '/Users/mjboothaus/.ipython']"
      ]
     },
     "metadata": {},
     "execution_count": 5
    }
   ],
   "metadata": {}
  },
  {
   "cell_type": "code",
   "execution_count": 6,
   "source": [
    "import duckdb"
   ],
   "outputs": [
    {
     "output_type": "error",
     "ename": "ModuleNotFoundError",
     "evalue": "No module named 'duckdb'",
     "traceback": [
      "\u001b[0;31m---------------------------------------------------------------------------\u001b[0m",
      "\u001b[0;31mModuleNotFoundError\u001b[0m                       Traceback (most recent call last)",
      "\u001b[0;32m/var/folders/_6/5btwyp417kb5tky1dhxm68000000gn/T/ipykernel_16507/2991672974.py\u001b[0m in \u001b[0;36m<module>\u001b[0;34m\u001b[0m\n\u001b[0;32m----> 1\u001b[0;31m \u001b[0;32mimport\u001b[0m \u001b[0mduckdb\u001b[0m\u001b[0;34m\u001b[0m\u001b[0;34m\u001b[0m\u001b[0m\n\u001b[0m",
      "\u001b[0;31mModuleNotFoundError\u001b[0m: No module named 'duckdb'"
     ]
    }
   ],
   "metadata": {}
  },
  {
   "cell_type": "code",
   "execution_count": 3,
   "source": [
    "cursor = duckdb.connect()\n",
    "print(cursor.execute('SELECT 42').fetchall())"
   ],
   "outputs": [
    {
     "output_type": "stream",
     "name": "stdout",
     "text": [
      "[(42,)]\n"
     ]
    }
   ],
   "metadata": {}
  },
  {
   "cell_type": "code",
   "execution_count": 5,
   "source": [
    "import pandas as pd"
   ],
   "outputs": [],
   "metadata": {}
  },
  {
   "cell_type": "code",
   "execution_count": 8,
   "source": [
    "mydf = pd.DataFrame({'a' : [1, 2, 3]})\n",
    "print(duckdb.query(\"SELECT AVG(a) FROM mydf\").to_df())"
   ],
   "outputs": [
    {
     "output_type": "stream",
     "name": "stdout",
     "text": [
      "   avg(a)\n",
      "0     2.0\n"
     ]
    }
   ],
   "metadata": {}
  },
  {
   "cell_type": "code",
   "execution_count": 7,
   "source": [
    "!jupyter kernelspec list"
   ],
   "outputs": [
    {
     "output_type": "stream",
     "name": "stdout",
     "text": [
      "Available kernels:\n",
      "  python3810jvsc74a57bd03086ab3d90372c825407b804b6256634f337f6e28cf9335d0f6d2a4e138be96d    /Users/mjboothaus/Library/Jupyter/kernels/python3810jvsc74a57bd03086ab3d90372c825407b804b6256634f337f6e28cf9335d0f6d2a4e138be96d\n",
      "  python3810jvsc74a57bd099143769d1b812eb68db2dcb5b68ac9d4e914bf3cc41efab59d780dae4e055d1    /Users/mjboothaus/Library/Jupyter/kernels/python3810jvsc74a57bd099143769d1b812eb68db2dcb5b68ac9d4e914bf3cc41efab59d780dae4e055d1\n",
      "  python3810jvsc74a57bd0cfa7a8ce30da2c99891659cad67a24848f787c9950064e6e35407c1189265faa    /Users/mjboothaus/Library/Jupyter/kernels/python3810jvsc74a57bd0cfa7a8ce30da2c99891659cad67a24848f787c9950064e6e35407c1189265faa\n",
      "  python3810jvsc74a57bd0f240be019856415b64564560067a995388062410618151689d60bca2458eef6d    /Users/mjboothaus/Library/Jupyter/kernels/python3810jvsc74a57bd0f240be019856415b64564560067a995388062410618151689d60bca2458eef6d\n",
      "  python3810jvsc74a57bd0fec88cd268bab3422d222fe82790b66e2cd0da331467ceb1b83c1e5368aa9d0e    /Users/mjboothaus/Library/Jupyter/kernels/python3810jvsc74a57bd0fec88cd268bab3422d222fe82790b66e2cd0da331467ceb1b83c1e5368aa9d0e\n",
      "  python395jvsc74a57bd0685727e5553aaf53af405e1ec23805d5d37cd53b2508349f19875f763fd6136f     /Users/mjboothaus/Library/Jupyter/kernels/python395jvsc74a57bd0685727e5553aaf53af405e1ec23805d5d37cd53b2508349f19875f763fd6136f\n",
      "  python396jvsc74a57bd055d5283e5e22c1808dbdd8336cf41064cf0cdfa126d0c4a96c75bc55dc339187     /Users/mjboothaus/Library/Jupyter/kernels/python396jvsc74a57bd055d5283e5e22c1808dbdd8336cf41064cf0cdfa126d0c4a96c75bc55dc339187\n",
      "  python396jvsc74a57bd09965e597290517e4f8f60cc67d6206d3ecbde15dd196388ffcc68a0b917576f0     /Users/mjboothaus/Library/Jupyter/kernels/python396jvsc74a57bd09965e597290517e4f8f60cc67d6206d3ecbde15dd196388ffcc68a0b917576f0\n",
      "  python396jvsc74a57bd0a22d2645d3afe98160956a5bd9591f63a934537cdda62e90bef32e6cf34fead0     /Users/mjboothaus/Library/Jupyter/kernels/python396jvsc74a57bd0a22d2645d3afe98160956a5bd9591f63a934537cdda62e90bef32e6cf34fead0\n",
      "  python396jvsc74a57bd0cfa7a8ce30da2c99891659cad67a24848f787c9950064e6e35407c1189265faa     /Users/mjboothaus/Library/Jupyter/kernels/python396jvsc74a57bd0cfa7a8ce30da2c99891659cad67a24848f787c9950064e6e35407c1189265faa\n",
      "  python3                                                                                   /opt/homebrew/Caskroom/mambaforge/base/envs/emmaus_walking_py38/share/jupyter/kernels/python3\n"
     ]
    }
   ],
   "metadata": {}
  },
  {
   "cell_type": "code",
   "execution_count": null,
   "source": [],
   "outputs": [],
   "metadata": {}
  }
 ],
 "metadata": {
  "interpreter": {
   "hash": "3086ab3d90372c825407b804b6256634f337f6e28cf9335d0f6d2a4e138be96d"
  },
  "kernelspec": {
   "name": "python3",
   "display_name": "Python 3.8.10 64-bit ('try-duckdb': conda)"
  },
  "language_info": {
   "name": "python",
   "version": "3.9.6",
   "mimetype": "text/x-python",
   "codemirror_mode": {
    "name": "ipython",
    "version": 3
   },
   "pygments_lexer": "ipython3",
   "nbconvert_exporter": "python",
   "file_extension": ".py"
  }
 },
 "nbformat": 4,
 "nbformat_minor": 2
}