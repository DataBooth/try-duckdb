{
 "cells": [
  {
   "cell_type": "markdown",
   "metadata": {},
   "source": [
    "## Try DuckDB\n",
    "\n",
    "[https://duckdb.org](https://duckdb.org)"
   ]
  },
  {
   "cell_type": "code",
   "execution_count": 1,
   "metadata": {},
   "outputs": [
    {
     "data": {
      "text/plain": [
       "['/Users/mjboothaus/code/github/databooth/try-duckdb',\n",
       " '/opt/homebrew/Caskroom/mambaforge/base/envs/try-duckdb/lib/python38.zip',\n",
       " '/opt/homebrew/Caskroom/mambaforge/base/envs/try-duckdb/lib/python3.8',\n",
       " '/opt/homebrew/Caskroom/mambaforge/base/envs/try-duckdb/lib/python3.8/lib-dynload',\n",
       " '',\n",
       " '/opt/homebrew/Caskroom/mambaforge/base/envs/try-duckdb/lib/python3.8/site-packages',\n",
       " '/opt/homebrew/Caskroom/mambaforge/base/envs/try-duckdb/lib/python3.8/site-packages/IPython/extensions',\n",
       " '/Users/mjboothaus/.ipython']"
      ]
     },
     "execution_count": 1,
     "metadata": {},
     "output_type": "execute_result"
    }
   ],
   "source": [
    "import sys\n",
    "sys.path"
   ]
  },
  {
   "cell_type": "code",
   "execution_count": 2,
   "metadata": {},
   "outputs": [],
   "source": [
    "import duckdb"
   ]
  },
  {
   "cell_type": "code",
   "execution_count": 3,
   "metadata": {},
   "outputs": [
    {
     "name": "stdout",
     "output_type": "stream",
     "text": [
      "[(42,)]\n"
     ]
    }
   ],
   "source": [
    "cursor = duckdb.connect()\n",
    "print(cursor.execute('SELECT 42').fetchall())"
   ]
  },
  {
   "cell_type": "code",
   "execution_count": 4,
   "metadata": {},
   "outputs": [],
   "source": [
    "import pandas as pd"
   ]
  },
  {
   "cell_type": "code",
   "execution_count": 5,
   "metadata": {},
   "outputs": [
    {
     "name": "stdout",
     "output_type": "stream",
     "text": [
      "   avg(a)\n",
      "0     2.0\n"
     ]
    }
   ],
   "source": [
    "mydf = pd.DataFrame({'a' : [1, 2, 3]})\n",
    "print(duckdb.query(\"SELECT AVG(a) FROM mydf\").to_df())"
   ]
  },
  {
   "cell_type": "code",
   "execution_count": 6,
   "metadata": {},
   "outputs": [
    {
     "name": "stdout",
     "output_type": "stream",
     "text": [
      "[ListKernelSpecs] WARNING | Config option `kernel_spec_manager_class` not recognized by `ListKernelSpecs`.\n",
      "Available kernels:\n",
      "  python3810jvsc74a57bd03086ab3d90372c825407b804b6256634f337f6e28cf9335d0f6d2a4e138be96d    /Users/mjboothaus/Library/Jupyter/kernels/python3810jvsc74a57bd03086ab3d90372c825407b804b6256634f337f6e28cf9335d0f6d2a4e138be96d\n",
      "  python3810jvsc74a57bd099143769d1b812eb68db2dcb5b68ac9d4e914bf3cc41efab59d780dae4e055d1    /Users/mjboothaus/Library/Jupyter/kernels/python3810jvsc74a57bd099143769d1b812eb68db2dcb5b68ac9d4e914bf3cc41efab59d780dae4e055d1\n",
      "  python3810jvsc74a57bd0cfa7a8ce30da2c99891659cad67a24848f787c9950064e6e35407c1189265faa    /Users/mjboothaus/Library/Jupyter/kernels/python3810jvsc74a57bd0cfa7a8ce30da2c99891659cad67a24848f787c9950064e6e35407c1189265faa\n",
      "  python3810jvsc74a57bd0f240be019856415b64564560067a995388062410618151689d60bca2458eef6d    /Users/mjboothaus/Library/Jupyter/kernels/python3810jvsc74a57bd0f240be019856415b64564560067a995388062410618151689d60bca2458eef6d\n",
      "  python3810jvsc74a57bd0fec88cd268bab3422d222fe82790b66e2cd0da331467ceb1b83c1e5368aa9d0e    /Users/mjboothaus/Library/Jupyter/kernels/python3810jvsc74a57bd0fec88cd268bab3422d222fe82790b66e2cd0da331467ceb1b83c1e5368aa9d0e\n",
      "  python395jvsc74a57bd0685727e5553aaf53af405e1ec23805d5d37cd53b2508349f19875f763fd6136f     /Users/mjboothaus/Library/Jupyter/kernels/python395jvsc74a57bd0685727e5553aaf53af405e1ec23805d5d37cd53b2508349f19875f763fd6136f\n",
      "  python396jvsc74a57bd055d5283e5e22c1808dbdd8336cf41064cf0cdfa126d0c4a96c75bc55dc339187     /Users/mjboothaus/Library/Jupyter/kernels/python396jvsc74a57bd055d5283e5e22c1808dbdd8336cf41064cf0cdfa126d0c4a96c75bc55dc339187\n",
      "  python396jvsc74a57bd09965e597290517e4f8f60cc67d6206d3ecbde15dd196388ffcc68a0b917576f0     /Users/mjboothaus/Library/Jupyter/kernels/python396jvsc74a57bd09965e597290517e4f8f60cc67d6206d3ecbde15dd196388ffcc68a0b917576f0\n",
      "  python396jvsc74a57bd0a22d2645d3afe98160956a5bd9591f63a934537cdda62e90bef32e6cf34fead0     /Users/mjboothaus/Library/Jupyter/kernels/python396jvsc74a57bd0a22d2645d3afe98160956a5bd9591f63a934537cdda62e90bef32e6cf34fead0\n",
      "  python396jvsc74a57bd0cfa7a8ce30da2c99891659cad67a24848f787c9950064e6e35407c1189265faa     /Users/mjboothaus/Library/Jupyter/kernels/python396jvsc74a57bd0cfa7a8ce30da2c99891659cad67a24848f787c9950064e6e35407c1189265faa\n",
      "  try-duckdb                                                                                /Users/mjboothaus/Library/Jupyter/kernels/try-duckdb\n",
      "  python3                                                                                   /opt/homebrew/Caskroom/mambaforge/base/envs/try-duckdb/share/jupyter/kernels/python3\n"
     ]
    }
   ],
   "source": [
    "!jupyter kernelspec list"
   ]
  },
  {
   "cell_type": "markdown",
   "metadata": {},
   "source": [
    "## Examples\n",
    "\n",
    "From https://deepnote.com/@abid/Data-Science-with-DuckDB-9KKvj1EoQrmj6nj4Y2prkg"
   ]
  },
  {
   "cell_type": "code",
   "execution_count": 7,
   "metadata": {},
   "outputs": [
    {
     "data": {
      "text/plain": [
       "<duckdb.DuckDBPyConnection at 0x1280eda30>"
      ]
     },
     "execution_count": 7,
     "metadata": {},
     "output_type": "execute_result"
    }
   ],
   "source": [
    "# connect to an in-memory temporary database\n",
    "conn = duckdb.connect()\n",
    "\n",
    "# run arbitrary SQL commands\n",
    "conn.execute(\"CREATE TABLE test_table (i INTEGER, j STRING)\")"
   ]
  },
  {
   "cell_type": "code",
   "execution_count": 8,
   "metadata": {},
   "outputs": [
    {
     "data": {
      "text/plain": [
       "<duckdb.DuckDBPyConnection at 0x1280eda30>"
      ]
     },
     "execution_count": 8,
     "metadata": {},
     "output_type": "execute_result"
    }
   ],
   "source": [
    "conn.execute(\"INSERT INTO test_table VALUES (1, 'one'),(9,'nine')\")"
   ]
  },
  {
   "cell_type": "code",
   "execution_count": 10,
   "metadata": {},
   "outputs": [],
   "source": [
    "my_df = conn.execute(\"SELECT i from test_table \").fetchdf()"
   ]
  },
  {
   "cell_type": "code",
   "execution_count": 11,
   "metadata": {},
   "outputs": [
    {
     "data": {
      "text/html": [
       "<div>\n",
       "<style scoped>\n",
       "    .dataframe tbody tr th:only-of-type {\n",
       "        vertical-align: middle;\n",
       "    }\n",
       "\n",
       "    .dataframe tbody tr th {\n",
       "        vertical-align: top;\n",
       "    }\n",
       "\n",
       "    .dataframe thead th {\n",
       "        text-align: right;\n",
       "    }\n",
       "</style>\n",
       "<table border=\"1\" class=\"dataframe\">\n",
       "  <thead>\n",
       "    <tr style=\"text-align: right;\">\n",
       "      <th></th>\n",
       "      <th>i</th>\n",
       "    </tr>\n",
       "  </thead>\n",
       "  <tbody>\n",
       "    <tr>\n",
       "      <th>0</th>\n",
       "      <td>1</td>\n",
       "    </tr>\n",
       "    <tr>\n",
       "      <th>1</th>\n",
       "      <td>9</td>\n",
       "    </tr>\n",
       "  </tbody>\n",
       "</table>\n",
       "</div>"
      ],
      "text/plain": [
       "   i\n",
       "0  1\n",
       "1  9"
      ]
     },
     "execution_count": 11,
     "metadata": {},
     "output_type": "execute_result"
    }
   ],
   "source": [
    "my_df"
   ]
  },
  {
   "cell_type": "code",
   "execution_count": 12,
   "metadata": {},
   "outputs": [
    {
     "data": {
      "text/plain": [
       "<duckdb.DuckDBPyConnection at 0x1280eda30>"
      ]
     },
     "execution_count": 12,
     "metadata": {},
     "output_type": "execute_result"
    }
   ],
   "source": [
    "# we can use placeholders for parameters\n",
    "conn.execute(\"INSERT INTO test_table VALUES (?, ?)\", [2, 'two'])\n",
    "\n",
    "\n",
    "conn.executemany(\"INSERT INTO test_table VALUES (?, ?)\", [[3, 'three'], [4, 'four']])"
   ]
  },
  {
   "cell_type": "code",
   "execution_count": 13,
   "metadata": {},
   "outputs": [
    {
     "data": {
      "text/html": [
       "<div>\n",
       "<style scoped>\n",
       "    .dataframe tbody tr th:only-of-type {\n",
       "        vertical-align: middle;\n",
       "    }\n",
       "\n",
       "    .dataframe tbody tr th {\n",
       "        vertical-align: top;\n",
       "    }\n",
       "\n",
       "    .dataframe thead th {\n",
       "        text-align: right;\n",
       "    }\n",
       "</style>\n",
       "<table border=\"1\" class=\"dataframe\">\n",
       "  <thead>\n",
       "    <tr style=\"text-align: right;\">\n",
       "      <th></th>\n",
       "      <th>i</th>\n",
       "      <th>j</th>\n",
       "    </tr>\n",
       "  </thead>\n",
       "  <tbody>\n",
       "    <tr>\n",
       "      <th>0</th>\n",
       "      <td>1</td>\n",
       "      <td>one</td>\n",
       "    </tr>\n",
       "    <tr>\n",
       "      <th>1</th>\n",
       "      <td>9</td>\n",
       "      <td>nine</td>\n",
       "    </tr>\n",
       "    <tr>\n",
       "      <th>2</th>\n",
       "      <td>2</td>\n",
       "      <td>two</td>\n",
       "    </tr>\n",
       "    <tr>\n",
       "      <th>3</th>\n",
       "      <td>3</td>\n",
       "      <td>three</td>\n",
       "    </tr>\n",
       "    <tr>\n",
       "      <th>4</th>\n",
       "      <td>4</td>\n",
       "      <td>four</td>\n",
       "    </tr>\n",
       "  </tbody>\n",
       "</table>\n",
       "</div>"
      ],
      "text/plain": [
       "   i      j\n",
       "0  1    one\n",
       "1  9   nine\n",
       "2  2    two\n",
       "3  3  three\n",
       "4  4   four"
      ]
     },
     "execution_count": 13,
     "metadata": {},
     "output_type": "execute_result"
    }
   ],
   "source": [
    "conn.execute(\"SELECT * from test_table \").fetchdf()"
   ]
  },
  {
   "cell_type": "code",
   "execution_count": 14,
   "metadata": {},
   "outputs": [
    {
     "name": "stdout",
     "output_type": "stream",
     "text": [
      "{'i': array([1, 9, 2, 3, 4], dtype=int32), 'j': array(['one', 'nine', 'two', 'three', 'four'], dtype=object)}\n"
     ]
    }
   ],
   "source": [
    "print(conn.execute(\"SELECT * FROM test_table\").fetchnumpy())"
   ]
  },
  {
   "cell_type": "code",
   "execution_count": 15,
   "metadata": {},
   "outputs": [],
   "source": [
    "test_df = pd.DataFrame.from_dict({\"i\":[1, 2, 3, 4], \"j\":[\"one\", \"two\", \"three\", \"four\"]})"
   ]
  },
  {
   "cell_type": "code",
   "execution_count": 16,
   "metadata": {},
   "outputs": [
    {
     "data": {
      "text/html": [
       "<div>\n",
       "<style scoped>\n",
       "    .dataframe tbody tr th:only-of-type {\n",
       "        vertical-align: middle;\n",
       "    }\n",
       "\n",
       "    .dataframe tbody tr th {\n",
       "        vertical-align: top;\n",
       "    }\n",
       "\n",
       "    .dataframe thead th {\n",
       "        text-align: right;\n",
       "    }\n",
       "</style>\n",
       "<table border=\"1\" class=\"dataframe\">\n",
       "  <thead>\n",
       "    <tr style=\"text-align: right;\">\n",
       "      <th></th>\n",
       "      <th>i</th>\n",
       "      <th>j</th>\n",
       "    </tr>\n",
       "  </thead>\n",
       "  <tbody>\n",
       "    <tr>\n",
       "      <th>0</th>\n",
       "      <td>1</td>\n",
       "      <td>one</td>\n",
       "    </tr>\n",
       "    <tr>\n",
       "      <th>1</th>\n",
       "      <td>2</td>\n",
       "      <td>two</td>\n",
       "    </tr>\n",
       "    <tr>\n",
       "      <th>2</th>\n",
       "      <td>3</td>\n",
       "      <td>three</td>\n",
       "    </tr>\n",
       "    <tr>\n",
       "      <th>3</th>\n",
       "      <td>4</td>\n",
       "      <td>four</td>\n",
       "    </tr>\n",
       "  </tbody>\n",
       "</table>\n",
       "</div>"
      ],
      "text/plain": [
       "   i      j\n",
       "0  1    one\n",
       "1  2    two\n",
       "2  3  three\n",
       "3  4   four"
      ]
     },
     "execution_count": 16,
     "metadata": {},
     "output_type": "execute_result"
    }
   ],
   "source": [
    "test_df"
   ]
  },
  {
   "cell_type": "code",
   "execution_count": 17,
   "metadata": {},
   "outputs": [
    {
     "name": "stdout",
     "output_type": "stream",
     "text": [
      "       j\n",
      "0    two\n",
      "1  three\n",
      "2   four\n"
     ]
    }
   ],
   "source": [
    "# make this data frame available as a view in duckdb\n",
    "conn.register(\"test_df\", test_df)\n",
    "print(conn.execute(\"SELECT j FROM test_df WHERE i > 1\").fetchdf())"
   ]
  },
  {
   "cell_type": "code",
   "execution_count": 18,
   "metadata": {},
   "outputs": [
    {
     "data": {
      "text/html": [
       "<div>\n",
       "<style scoped>\n",
       "    .dataframe tbody tr th:only-of-type {\n",
       "        vertical-align: middle;\n",
       "    }\n",
       "\n",
       "    .dataframe tbody tr th {\n",
       "        vertical-align: top;\n",
       "    }\n",
       "\n",
       "    .dataframe thead th {\n",
       "        text-align: right;\n",
       "    }\n",
       "</style>\n",
       "<table border=\"1\" class=\"dataframe\">\n",
       "  <thead>\n",
       "    <tr style=\"text-align: right;\">\n",
       "      <th></th>\n",
       "      <th>id</th>\n",
       "      <th>expected_recovery_amount</th>\n",
       "      <th>actual_recovery_amount</th>\n",
       "      <th>recovery_strategy</th>\n",
       "      <th>age</th>\n",
       "      <th>sex</th>\n",
       "    </tr>\n",
       "  </thead>\n",
       "  <tbody>\n",
       "    <tr>\n",
       "      <th>0</th>\n",
       "      <td>2030</td>\n",
       "      <td>194</td>\n",
       "      <td>263.540</td>\n",
       "      <td>Level 0 Recovery</td>\n",
       "      <td>19</td>\n",
       "      <td>Male</td>\n",
       "    </tr>\n",
       "    <tr>\n",
       "      <th>1</th>\n",
       "      <td>1150</td>\n",
       "      <td>486</td>\n",
       "      <td>416.090</td>\n",
       "      <td>Level 0 Recovery</td>\n",
       "      <td>25</td>\n",
       "      <td>Female</td>\n",
       "    </tr>\n",
       "    <tr>\n",
       "      <th>2</th>\n",
       "      <td>380</td>\n",
       "      <td>527</td>\n",
       "      <td>429.350</td>\n",
       "      <td>Level 0 Recovery</td>\n",
       "      <td>27</td>\n",
       "      <td>Male</td>\n",
       "    </tr>\n",
       "    <tr>\n",
       "      <th>3</th>\n",
       "      <td>1838</td>\n",
       "      <td>536</td>\n",
       "      <td>296.990</td>\n",
       "      <td>Level 0 Recovery</td>\n",
       "      <td>25</td>\n",
       "      <td>Male</td>\n",
       "    </tr>\n",
       "    <tr>\n",
       "      <th>4</th>\n",
       "      <td>1995</td>\n",
       "      <td>541</td>\n",
       "      <td>346.385</td>\n",
       "      <td>Level 0 Recovery</td>\n",
       "      <td>34</td>\n",
       "      <td>Male</td>\n",
       "    </tr>\n",
       "  </tbody>\n",
       "</table>\n",
       "</div>"
      ],
      "text/plain": [
       "     id  expected_recovery_amount  actual_recovery_amount recovery_strategy  \\\n",
       "0  2030                       194                 263.540  Level 0 Recovery   \n",
       "1  1150                       486                 416.090  Level 0 Recovery   \n",
       "2   380                       527                 429.350  Level 0 Recovery   \n",
       "3  1838                       536                 296.990  Level 0 Recovery   \n",
       "4  1995                       541                 346.385  Level 0 Recovery   \n",
       "\n",
       "   age     sex  \n",
       "0   19    Male  \n",
       "1   25  Female  \n",
       "2   27    Male  \n",
       "3   25    Male  \n",
       "4   34    Male  "
      ]
     },
     "execution_count": 18,
     "metadata": {},
     "output_type": "execute_result"
    }
   ],
   "source": [
    "df = pd.read_csv(\"/Users/mjboothaus/data/kaggle/bank_data.csv\")\n",
    "df.head()"
   ]
  },
  {
   "cell_type": "code",
   "execution_count": 19,
   "metadata": {},
   "outputs": [
    {
     "data": {
      "text/html": [
       "<div>\n",
       "<style scoped>\n",
       "    .dataframe tbody tr th:only-of-type {\n",
       "        vertical-align: middle;\n",
       "    }\n",
       "\n",
       "    .dataframe tbody tr th {\n",
       "        vertical-align: top;\n",
       "    }\n",
       "\n",
       "    .dataframe thead th {\n",
       "        text-align: right;\n",
       "    }\n",
       "</style>\n",
       "<table border=\"1\" class=\"dataframe\">\n",
       "  <thead>\n",
       "    <tr style=\"text-align: right;\">\n",
       "      <th></th>\n",
       "      <th>actual_recovery_amount</th>\n",
       "    </tr>\n",
       "  </thead>\n",
       "  <tbody>\n",
       "    <tr>\n",
       "      <th>0</th>\n",
       "      <td>346.385000</td>\n",
       "    </tr>\n",
       "    <tr>\n",
       "      <th>1</th>\n",
       "      <td>520.710000</td>\n",
       "    </tr>\n",
       "    <tr>\n",
       "      <th>2</th>\n",
       "      <td>221.585000</td>\n",
       "    </tr>\n",
       "    <tr>\n",
       "      <th>3</th>\n",
       "      <td>201.815000</td>\n",
       "    </tr>\n",
       "    <tr>\n",
       "      <th>4</th>\n",
       "      <td>262.445000</td>\n",
       "    </tr>\n",
       "    <tr>\n",
       "      <th>...</th>\n",
       "      <td>...</td>\n",
       "    </tr>\n",
       "    <tr>\n",
       "      <th>1434</th>\n",
       "      <td>15388.195990</td>\n",
       "    </tr>\n",
       "    <tr>\n",
       "      <th>1435</th>\n",
       "      <td>9709.909257</td>\n",
       "    </tr>\n",
       "    <tr>\n",
       "      <th>1436</th>\n",
       "      <td>30209.181790</td>\n",
       "    </tr>\n",
       "    <tr>\n",
       "      <th>1437</th>\n",
       "      <td>20386.232190</td>\n",
       "    </tr>\n",
       "    <tr>\n",
       "      <th>1438</th>\n",
       "      <td>16706.305920</td>\n",
       "    </tr>\n",
       "  </tbody>\n",
       "</table>\n",
       "<p>1439 rows × 1 columns</p>\n",
       "</div>"
      ],
      "text/plain": [
       "      actual_recovery_amount\n",
       "0                 346.385000\n",
       "1                 520.710000\n",
       "2                 221.585000\n",
       "3                 201.815000\n",
       "4                 262.445000\n",
       "...                      ...\n",
       "1434            15388.195990\n",
       "1435             9709.909257\n",
       "1436            30209.181790\n",
       "1437            20386.232190\n",
       "1438            16706.305920\n",
       "\n",
       "[1439 rows x 1 columns]"
      ]
     },
     "execution_count": 19,
     "metadata": {},
     "output_type": "execute_result"
    }
   ],
   "source": [
    "# make this data frame available as a view in duckdb\n",
    "conn.register(\"bank_df\", df)\n",
    "conn.execute(\"SELECT actual_recovery_amount FROM bank_df WHERE age > 27\").fetchdf()"
   ]
  },
  {
   "cell_type": "code",
   "execution_count": 20,
   "metadata": {},
   "outputs": [
    {
     "data": {
      "text/plain": [
       "---------------------\n",
       "-- Expression Tree --\n",
       "---------------------\n",
       "pandas_scan(4967208608)\n",
       "\n",
       "---------------------\n",
       "-- Result Columns  --\n",
       "---------------------\n",
       "- i (BIGINT)\n",
       "- j (VARCHAR)\n",
       "\n",
       "---------------------\n",
       "-- Result Preview  --\n",
       "---------------------\n",
       "i\tj\t\n",
       "BIGINT\tVARCHAR\t\n",
       "[ Rows: 4]\n",
       "1\tone\t\n",
       "2\ttwo\t\n",
       "3\tthree\t\n",
       "4\tfour\t\n",
       "\n"
      ]
     },
     "execution_count": 20,
     "metadata": {},
     "output_type": "execute_result"
    }
   ],
   "source": [
    "rel = conn.from_df(test_df)\n",
    "rel"
   ]
  },
  {
   "cell_type": "code",
   "execution_count": 21,
   "metadata": {},
   "outputs": [
    {
     "data": {
      "text/plain": [
       "---------------------\n",
       "-- Expression Tree --\n",
       "---------------------\n",
       "pandas_scan(4967208608)\n",
       "\n",
       "---------------------\n",
       "-- Result Columns  --\n",
       "---------------------\n",
       "- i (BIGINT)\n",
       "- j (VARCHAR)\n",
       "\n",
       "---------------------\n",
       "-- Result Preview  --\n",
       "---------------------\n",
       "i\tj\t\n",
       "BIGINT\tVARCHAR\t\n",
       "[ Rows: 4]\n",
       "1\tone\t\n",
       "2\ttwo\t\n",
       "3\tthree\t\n",
       "4\tfour\t\n",
       "\n"
      ]
     },
     "execution_count": 21,
     "metadata": {},
     "output_type": "execute_result"
    }
   ],
   "source": [
    "rel = duckdb.df(test_df)\n",
    "rel"
   ]
  },
  {
   "cell_type": "code",
   "execution_count": 22,
   "metadata": {},
   "outputs": [
    {
     "data": {
      "text/plain": [
       "---------------------\n",
       "-- Expression Tree --\n",
       "---------------------\n",
       "Scan Table [test_table]\n",
       "\n",
       "---------------------\n",
       "-- Result Columns  --\n",
       "---------------------\n",
       "- i (INTEGER)\n",
       "- j (VARCHAR)\n",
       "\n",
       "---------------------\n",
       "-- Result Preview  --\n",
       "---------------------\n",
       "i\tj\t\n",
       "INTEGER\tVARCHAR\t\n",
       "[ Rows: 5]\n",
       "1\tone\t\n",
       "9\tnine\t\n",
       "2\ttwo\t\n",
       "3\tthree\t\n",
       "4\tfour\t\n",
       "\n"
      ]
     },
     "execution_count": 22,
     "metadata": {},
     "output_type": "execute_result"
    }
   ],
   "source": [
    "rel = conn.table(\"test_table\")\n",
    "rel"
   ]
  },
  {
   "cell_type": "code",
   "execution_count": 23,
   "metadata": {},
   "outputs": [
    {
     "data": {
      "text/plain": [
       "---------------------\n",
       "-- Expression Tree --\n",
       "---------------------\n",
       "read_csv_auto(/Users/mjboothaus/data/kaggle/bank_data.csv)\n",
       "\n",
       "---------------------\n",
       "-- Result Columns  --\n",
       "---------------------\n",
       "- id (INTEGER)\n",
       "- expected_recovery_amount (INTEGER)\n",
       "- actual_recovery_amount (DOUBLE)\n",
       "- recovery_strategy (VARCHAR)\n",
       "- age (INTEGER)\n",
       "- sex (VARCHAR)\n",
       "\n",
       "---------------------\n",
       "-- Result Preview  --\n",
       "---------------------\n",
       "id\texpected_recovery_amount\tactual_recovery_amount\trecovery_strategy\tage\tsex\t\n",
       "INTEGER\tINTEGER\tDOUBLE\tVARCHAR\tINTEGER\tVARCHAR\t\n",
       "[ Rows: 10]\n",
       "2030\t194\t263.540000\tLevel 0 Recovery\t19\tMale\t\n",
       "1150\t486\t416.090000\tLevel 0 Recovery\t25\tFemale\t\n",
       "380\t527\t429.350000\tLevel 0 Recovery\t27\tMale\t\n",
       "1838\t536\t296.990000\tLevel 0 Recovery\t25\tMale\t\n",
       "1995\t541\t346.385000\tLevel 0 Recovery\t34\tMale\t\n",
       "731\t548\t520.710000\tLevel 0 Recovery\t35\tMale\t\n",
       "221\t549\t221.585000\tLevel 0 Recovery\t33\tMale\t\n",
       "1932\t560\t373.720000\tLevel 0 Recovery\t19\tFemale\t\n",
       "1828\t562\t201.865000\tLevel 0 Recovery\t22\tFemale\t\n",
       "2001\t565\t504.885000\tLevel 0 Recovery\t27\tMale\t\n",
       "\n"
      ]
     },
     "execution_count": 23,
     "metadata": {},
     "output_type": "execute_result"
    }
   ],
   "source": [
    "rel = duckdb.from_csv_auto(\"/Users/mjboothaus/data/kaggle/bank_data.csv\")\n",
    "rel"
   ]
  },
  {
   "cell_type": "code",
   "execution_count": 24,
   "metadata": {},
   "outputs": [
    {
     "data": {
      "text/plain": [
       "'/Users/mjboothaus/data/kaggle/bank_data.csv'"
      ]
     },
     "execution_count": 24,
     "metadata": {},
     "output_type": "execute_result"
    }
   ],
   "source": [
    "rel.alias"
   ]
  },
  {
   "cell_type": "code",
   "execution_count": 25,
   "metadata": {},
   "outputs": [
    {
     "data": {
      "text/plain": [
       "['id',\n",
       " 'expected_recovery_amount',\n",
       " 'actual_recovery_amount',\n",
       " 'recovery_strategy',\n",
       " 'age',\n",
       " 'sex']"
      ]
     },
     "execution_count": 25,
     "metadata": {},
     "output_type": "execute_result"
    }
   ],
   "source": [
    "rel.columns"
   ]
  },
  {
   "cell_type": "code",
   "execution_count": 26,
   "metadata": {},
   "outputs": [
    {
     "data": {
      "text/plain": [
       "['INTEGER', 'INTEGER', 'DOUBLE', 'VARCHAR', 'INTEGER', 'VARCHAR']"
      ]
     },
     "execution_count": 26,
     "metadata": {},
     "output_type": "execute_result"
    }
   ],
   "source": [
    "rel.types"
   ]
  },
  {
   "cell_type": "code",
   "execution_count": 27,
   "metadata": {},
   "outputs": [
    {
     "data": {
      "text/plain": [
       "---------------------\n",
       "-- Expression Tree --\n",
       "---------------------\n",
       "Filter [age>18]\n",
       "  read_csv_auto(/Users/mjboothaus/data/kaggle/bank_data.csv)\n",
       "\n",
       "---------------------\n",
       "-- Result Columns  --\n",
       "---------------------\n",
       "- id (INTEGER)\n",
       "- expected_recovery_amount (INTEGER)\n",
       "- actual_recovery_amount (DOUBLE)\n",
       "- recovery_strategy (VARCHAR)\n",
       "- age (INTEGER)\n",
       "- sex (VARCHAR)\n",
       "\n",
       "---------------------\n",
       "-- Result Preview  --\n",
       "---------------------\n",
       "id\texpected_recovery_amount\tactual_recovery_amount\trecovery_strategy\tage\tsex\t\n",
       "INTEGER\tINTEGER\tDOUBLE\tVARCHAR\tINTEGER\tVARCHAR\t\n",
       "[ Rows: 10]\n",
       "2030\t194\t263.540000\tLevel 0 Recovery\t19\tMale\t\n",
       "1150\t486\t416.090000\tLevel 0 Recovery\t25\tFemale\t\n",
       "380\t527\t429.350000\tLevel 0 Recovery\t27\tMale\t\n",
       "1838\t536\t296.990000\tLevel 0 Recovery\t25\tMale\t\n",
       "1995\t541\t346.385000\tLevel 0 Recovery\t34\tMale\t\n",
       "731\t548\t520.710000\tLevel 0 Recovery\t35\tMale\t\n",
       "221\t549\t221.585000\tLevel 0 Recovery\t33\tMale\t\n",
       "1932\t560\t373.720000\tLevel 0 Recovery\t19\tFemale\t\n",
       "1828\t562\t201.865000\tLevel 0 Recovery\t22\tFemale\t\n",
       "2001\t565\t504.885000\tLevel 0 Recovery\t27\tMale\t\n",
       "\n"
      ]
     },
     "execution_count": 27,
     "metadata": {},
     "output_type": "execute_result"
    }
   ],
   "source": [
    "rel.filter('age > 18')"
   ]
  },
  {
   "cell_type": "code",
   "execution_count": 28,
   "metadata": {},
   "outputs": [
    {
     "data": {
      "text/plain": [
       "---------------------\n",
       "-- Expression Tree --\n",
       "---------------------\n",
       "Projection [id, age]\n",
       "  read_csv_auto(/Users/mjboothaus/data/kaggle/bank_data.csv)\n",
       "\n",
       "---------------------\n",
       "-- Result Columns  --\n",
       "---------------------\n",
       "- id (INTEGER)\n",
       "- age (INTEGER)\n",
       "\n",
       "---------------------\n",
       "-- Result Preview  --\n",
       "---------------------\n",
       "id\tage\t\n",
       "INTEGER\tINTEGER\t\n",
       "[ Rows: 10]\n",
       "2030\t19\t\n",
       "1150\t25\t\n",
       "380\t27\t\n",
       "1838\t25\t\n",
       "1995\t34\t\n",
       "731\t35\t\n",
       "221\t33\t\n",
       "1932\t19\t\n",
       "1828\t22\t\n",
       "2001\t27\t\n",
       "\n"
      ]
     },
     "execution_count": 28,
     "metadata": {},
     "output_type": "execute_result"
    }
   ],
   "source": [
    "rel.project('id, age')"
   ]
  },
  {
   "cell_type": "code",
   "execution_count": 29,
   "metadata": {},
   "outputs": [
    {
     "data": {
      "text/plain": [
       "---------------------\n",
       "-- Expression Tree --\n",
       "---------------------\n",
       "Order [sex DESC]\n",
       "  read_csv_auto(/Users/mjboothaus/data/kaggle/bank_data.csv)\n",
       "\n",
       "---------------------\n",
       "-- Result Columns  --\n",
       "---------------------\n",
       "- id (INTEGER)\n",
       "- expected_recovery_amount (INTEGER)\n",
       "- actual_recovery_amount (DOUBLE)\n",
       "- recovery_strategy (VARCHAR)\n",
       "- age (INTEGER)\n",
       "- sex (VARCHAR)\n",
       "\n",
       "---------------------\n",
       "-- Result Preview  --\n",
       "---------------------\n",
       "id\texpected_recovery_amount\tactual_recovery_amount\trecovery_strategy\tage\tsex\t\n",
       "INTEGER\tINTEGER\tDOUBLE\tVARCHAR\tINTEGER\tVARCHAR\t\n",
       "[ Rows: 10]\n",
       "1769\t604\t278.720000\tLevel 0 Recovery\t32\tFemale\t\n",
       "1150\t486\t416.090000\tLevel 0 Recovery\t25\tFemale\t\n",
       "1932\t560\t373.720000\tLevel 0 Recovery\t19\tFemale\t\n",
       "1376\t2249\t3088.061261\tLevel 2 Recovery\t23\tFemale\t\n",
       "1028\t2253\t2871.750943\tLevel 2 Recovery\t25\tFemale\t\n",
       "1781\t9920\t20386.232190\tLevel 4 Recovery\t67\tFemale\t\n",
       "196\t9857\t9709.909257\tLevel 4 Recovery\t68\tFemale\t\n",
       "313\t9859\t30209.181790\tLevel 4 Recovery\t58\tFemale\t\n",
       "1850\t613\t377.105000\tLevel 0 Recovery\t28\tFemale\t\n",
       "1585\t2248\t4554.125549\tLevel 2 Recovery\t35\tFemale\t\n",
       "\n"
      ]
     },
     "execution_count": 29,
     "metadata": {},
     "output_type": "execute_result"
    }
   ],
   "source": [
    "rel.order('sex')"
   ]
  },
  {
   "cell_type": "code",
   "execution_count": 30,
   "metadata": {},
   "outputs": [
    {
     "data": {
      "text/plain": [
       "---------------------\n",
       "-- Expression Tree --\n",
       "---------------------\n",
       "Limit 2\n",
       "  read_csv_auto(/Users/mjboothaus/data/kaggle/bank_data.csv)\n",
       "\n",
       "---------------------\n",
       "-- Result Columns  --\n",
       "---------------------\n",
       "- id (INTEGER)\n",
       "- expected_recovery_amount (INTEGER)\n",
       "- actual_recovery_amount (DOUBLE)\n",
       "- recovery_strategy (VARCHAR)\n",
       "- age (INTEGER)\n",
       "- sex (VARCHAR)\n",
       "\n",
       "---------------------\n",
       "-- Result Preview  --\n",
       "---------------------\n",
       "id\texpected_recovery_amount\tactual_recovery_amount\trecovery_strategy\tage\tsex\t\n",
       "INTEGER\tINTEGER\tDOUBLE\tVARCHAR\tINTEGER\tVARCHAR\t\n",
       "[ Rows: 2]\n",
       "2030\t194\t263.540000\tLevel 0 Recovery\t19\tMale\t\n",
       "1150\t486\t416.090000\tLevel 0 Recovery\t25\tFemale\t\n",
       "\n"
      ]
     },
     "execution_count": 30,
     "metadata": {},
     "output_type": "execute_result"
    }
   ],
   "source": [
    "rel.limit(2)"
   ]
  },
  {
   "cell_type": "code",
   "execution_count": 31,
   "metadata": {},
   "outputs": [
    {
     "data": {
      "text/plain": [
       "---------------------\n",
       "-- Expression Tree --\n",
       "---------------------\n",
       "Limit 2\n",
       "  Order [sex DESC]\n",
       "    Projection [age]\n",
       "      Filter [age>19]\n",
       "        read_csv_auto(/Users/mjboothaus/data/kaggle/bank_data.csv)\n",
       "\n",
       "---------------------\n",
       "-- Result Columns  --\n",
       "---------------------\n",
       "- age (INTEGER)\n",
       "\n",
       "---------------------\n",
       "-- Result Preview  --\n",
       "---------------------\n",
       "age\t\n",
       "INTEGER\t\n",
       "[ Rows: 2]\n",
       "67\t\n",
       "58\t\n",
       "\n"
      ]
     },
     "execution_count": 31,
     "metadata": {},
     "output_type": "execute_result"
    }
   ],
   "source": [
    "rel.filter('age > 19').project('age').order('sex').limit(2)"
   ]
  },
  {
   "cell_type": "code",
   "execution_count": 32,
   "metadata": {},
   "outputs": [
    {
     "data": {
      "text/plain": [
       "---------------------\n",
       "-- Expression Tree --\n",
       "---------------------\n",
       "Aggregate [age, sum(actual_recovery_amount)]\n",
       "  read_csv_auto(/Users/mjboothaus/data/kaggle/bank_data.csv)\n",
       "\n",
       "---------------------\n",
       "-- Result Columns  --\n",
       "---------------------\n",
       "- age (INTEGER)\n",
       "- sum(actual_recovery_amount) (DOUBLE)\n",
       "\n",
       "---------------------\n",
       "-- Result Preview  --\n",
       "---------------------\n",
       "age\tsum(actual_recovery_amount)\t\n",
       "INTEGER\tDOUBLE\t\n",
       "[ Rows: 10]\n",
       "19\t52787.712089\t\n",
       "25\t72769.342330\t\n",
       "27\t67569.292950\t\n",
       "34\t109902.427032\t\n",
       "35\t115424.466724\t\n",
       "33\t138755.807230\t\n",
       "22\t46662.153746\t\n",
       "31\t92225.534688\t\n",
       "18\t39969.573274\t\n",
       "32\t110627.466806\t\n",
       "\n"
      ]
     },
     "execution_count": 32,
     "metadata": {},
     "output_type": "execute_result"
    }
   ],
   "source": [
    "rel.aggregate(\"age, sum(actual_recovery_amount)\")"
   ]
  },
  {
   "cell_type": "code",
   "execution_count": 33,
   "metadata": {},
   "outputs": [
    {
     "name": "stdout",
     "output_type": "stream",
     "text": [
      "---------------------\n",
      "-- Expression Tree --\n",
      "---------------------\n",
      "Filter [age>1]\n",
      "  pandas_scan(4967209520)\n",
      "\n",
      "---------------------\n",
      "-- Result Columns  --\n",
      "---------------------\n",
      "- id (BIGINT)\n",
      "- expected_recovery_amount (BIGINT)\n",
      "- actual_recovery_amount (DOUBLE)\n",
      "- recovery_strategy (VARCHAR)\n",
      "- age (BIGINT)\n",
      "- sex (VARCHAR)\n",
      "\n",
      "---------------------\n",
      "-- Result Preview  --\n",
      "---------------------\n",
      "id\texpected_recovery_amount\tactual_recovery_amount\trecovery_strategy\tage\tsex\t\n",
      "BIGINT\tBIGINT\tDOUBLE\tVARCHAR\tBIGINT\tVARCHAR\t\n",
      "[ Rows: 10]\n",
      "2030\t194\t263.540000\tLevel 0 Recovery\t19\tMale\t\n",
      "1150\t486\t416.090000\tLevel 0 Recovery\t25\tFemale\t\n",
      "380\t527\t429.350000\tLevel 0 Recovery\t27\tMale\t\n",
      "1838\t536\t296.990000\tLevel 0 Recovery\t25\tMale\t\n",
      "1995\t541\t346.385000\tLevel 0 Recovery\t34\tMale\t\n",
      "731\t548\t520.710000\tLevel 0 Recovery\t35\tMale\t\n",
      "221\t549\t221.585000\tLevel 0 Recovery\t33\tMale\t\n",
      "1932\t560\t373.720000\tLevel 0 Recovery\t19\tFemale\t\n",
      "1828\t562\t201.865000\tLevel 0 Recovery\t22\tFemale\t\n",
      "2001\t565\t504.885000\tLevel 0 Recovery\t27\tMale\t\n",
      "\n",
      "\n",
      "\n",
      "---------------------\n",
      "-- Expression Tree --\n",
      "---------------------\n",
      "Projection [age + 1]\n",
      "  pandas_scan(4967209520)\n",
      "\n",
      "---------------------\n",
      "-- Result Columns  --\n",
      "---------------------\n",
      "- age + 1 (BIGINT)\n",
      "\n",
      "---------------------\n",
      "-- Result Preview  --\n",
      "---------------------\n",
      "age + 1\t\n",
      "BIGINT\t\n",
      "[ Rows: 10]\n",
      "20\t\n",
      "26\t\n",
      "28\t\n",
      "26\t\n",
      "35\t\n",
      "36\t\n",
      "34\t\n",
      "20\t\n",
      "23\t\n",
      "28\t\n",
      "\n",
      "\n",
      "\n",
      "---------------------\n",
      "-- Expression Tree --\n",
      "---------------------\n",
      "Order [sex DESC]\n",
      "  pandas_scan(4967209520)\n",
      "\n",
      "---------------------\n",
      "-- Result Columns  --\n",
      "---------------------\n",
      "- id (BIGINT)\n",
      "- expected_recovery_amount (BIGINT)\n",
      "- actual_recovery_amount (DOUBLE)\n",
      "- recovery_strategy (VARCHAR)\n",
      "- age (BIGINT)\n",
      "- sex (VARCHAR)\n",
      "\n",
      "---------------------\n",
      "-- Result Preview  --\n",
      "---------------------\n",
      "id\texpected_recovery_amount\tactual_recovery_amount\trecovery_strategy\tage\tsex\t\n",
      "BIGINT\tBIGINT\tDOUBLE\tVARCHAR\tBIGINT\tVARCHAR\t\n",
      "[ Rows: 10]\n",
      "1769\t604\t278.720000\tLevel 0 Recovery\t32\tFemale\t\n",
      "1150\t486\t416.090000\tLevel 0 Recovery\t25\tFemale\t\n",
      "1932\t560\t373.720000\tLevel 0 Recovery\t19\tFemale\t\n",
      "1376\t2249\t3088.061261\tLevel 2 Recovery\t23\tFemale\t\n",
      "1028\t2253\t2871.750943\tLevel 2 Recovery\t25\tFemale\t\n",
      "1781\t9920\t20386.232190\tLevel 4 Recovery\t67\tFemale\t\n",
      "196\t9857\t9709.909257\tLevel 4 Recovery\t68\tFemale\t\n",
      "313\t9859\t30209.181790\tLevel 4 Recovery\t58\tFemale\t\n",
      "1850\t613\t377.105000\tLevel 0 Recovery\t28\tFemale\t\n",
      "1585\t2248\t4554.125549\tLevel 2 Recovery\t35\tFemale\t\n",
      "\n",
      "\n",
      "\n",
      "---------------------\n",
      "-- Expression Tree --\n",
      "---------------------\n",
      "Limit 2\n",
      "  pandas_scan(4967209520)\n",
      "\n",
      "---------------------\n",
      "-- Result Columns  --\n",
      "---------------------\n",
      "- id (BIGINT)\n",
      "- expected_recovery_amount (BIGINT)\n",
      "- actual_recovery_amount (DOUBLE)\n",
      "- recovery_strategy (VARCHAR)\n",
      "- age (BIGINT)\n",
      "- sex (VARCHAR)\n",
      "\n",
      "---------------------\n",
      "-- Result Preview  --\n",
      "---------------------\n",
      "id\texpected_recovery_amount\tactual_recovery_amount\trecovery_strategy\tage\tsex\t\n",
      "BIGINT\tBIGINT\tDOUBLE\tVARCHAR\tBIGINT\tVARCHAR\t\n",
      "[ Rows: 2]\n",
      "2030\t194\t263.540000\tLevel 0 Recovery\t19\tMale\t\n",
      "1150\t486\t416.090000\tLevel 0 Recovery\t25\tFemale\t\n",
      "\n",
      "\n",
      "\n"
     ]
    }
   ],
   "source": [
    "print(duckdb.filter(df, 'age > 1'))\n",
    "print(duckdb.project(df, 'age +1'))\n",
    "print(duckdb.order(df, 'sex'))\n",
    "print(duckdb.limit(df, 2))"
   ]
  },
  {
   "cell_type": "code",
   "execution_count": 34,
   "metadata": {},
   "outputs": [
    {
     "name": "stdout",
     "output_type": "stream",
     "text": [
      "<duckdb.DuckDBPyResult object at 0x108003770>\n"
     ]
    }
   ],
   "source": [
    "# compute the query result from the relation \n",
    "res = rel.execute()\n",
    "print(res)"
   ]
  },
  {
   "cell_type": "code",
   "execution_count": 35,
   "metadata": {},
   "outputs": [
    {
     "name": "stdout",
     "output_type": "stream",
     "text": [
      "(2030, 194, 263.54, 'Level 0 Recovery', 19, 'Male')\n"
     ]
    }
   ],
   "source": [
    "# res is a query result, you can call fetchdf() or fetchnumpy() or fetchone() on it\n",
    "print(res.fetchone())"
   ]
  },
  {
   "cell_type": "code",
   "execution_count": 37,
   "metadata": {},
   "outputs": [
    {
     "name": "stdout",
     "output_type": "stream",
     "text": [
      "[]\n"
     ]
    }
   ],
   "source": [
    "print(res.fetchall());"
   ]
  },
  {
   "cell_type": "code",
   "execution_count": 38,
   "metadata": {},
   "outputs": [
    {
     "data": {
      "text/html": [
       "<div>\n",
       "<style scoped>\n",
       "    .dataframe tbody tr th:only-of-type {\n",
       "        vertical-align: middle;\n",
       "    }\n",
       "\n",
       "    .dataframe tbody tr th {\n",
       "        vertical-align: top;\n",
       "    }\n",
       "\n",
       "    .dataframe thead th {\n",
       "        text-align: right;\n",
       "    }\n",
       "</style>\n",
       "<table border=\"1\" class=\"dataframe\">\n",
       "  <thead>\n",
       "    <tr style=\"text-align: right;\">\n",
       "      <th></th>\n",
       "      <th>id</th>\n",
       "      <th>expected_recovery_amount</th>\n",
       "      <th>actual_recovery_amount</th>\n",
       "      <th>recovery_strategy</th>\n",
       "      <th>age</th>\n",
       "      <th>sex</th>\n",
       "    </tr>\n",
       "  </thead>\n",
       "  <tbody>\n",
       "    <tr>\n",
       "      <th>0</th>\n",
       "      <td>2030</td>\n",
       "      <td>194</td>\n",
       "      <td>263.540000</td>\n",
       "      <td>Level 0 Recovery</td>\n",
       "      <td>19</td>\n",
       "      <td>Male</td>\n",
       "    </tr>\n",
       "    <tr>\n",
       "      <th>1</th>\n",
       "      <td>1150</td>\n",
       "      <td>486</td>\n",
       "      <td>416.090000</td>\n",
       "      <td>Level 0 Recovery</td>\n",
       "      <td>25</td>\n",
       "      <td>Female</td>\n",
       "    </tr>\n",
       "    <tr>\n",
       "      <th>2</th>\n",
       "      <td>380</td>\n",
       "      <td>527</td>\n",
       "      <td>429.350000</td>\n",
       "      <td>Level 0 Recovery</td>\n",
       "      <td>27</td>\n",
       "      <td>Male</td>\n",
       "    </tr>\n",
       "    <tr>\n",
       "      <th>3</th>\n",
       "      <td>1838</td>\n",
       "      <td>536</td>\n",
       "      <td>296.990000</td>\n",
       "      <td>Level 0 Recovery</td>\n",
       "      <td>25</td>\n",
       "      <td>Male</td>\n",
       "    </tr>\n",
       "    <tr>\n",
       "      <th>4</th>\n",
       "      <td>1995</td>\n",
       "      <td>541</td>\n",
       "      <td>346.385000</td>\n",
       "      <td>Level 0 Recovery</td>\n",
       "      <td>34</td>\n",
       "      <td>Male</td>\n",
       "    </tr>\n",
       "    <tr>\n",
       "      <th>...</th>\n",
       "      <td>...</td>\n",
       "      <td>...</td>\n",
       "      <td>...</td>\n",
       "      <td>...</td>\n",
       "      <td>...</td>\n",
       "      <td>...</td>\n",
       "    </tr>\n",
       "    <tr>\n",
       "      <th>1877</th>\n",
       "      <td>361</td>\n",
       "      <td>9785</td>\n",
       "      <td>15388.195990</td>\n",
       "      <td>Level 4 Recovery</td>\n",
       "      <td>65</td>\n",
       "      <td>Female</td>\n",
       "    </tr>\n",
       "    <tr>\n",
       "      <th>1878</th>\n",
       "      <td>196</td>\n",
       "      <td>9857</td>\n",
       "      <td>9709.909257</td>\n",
       "      <td>Level 4 Recovery</td>\n",
       "      <td>68</td>\n",
       "      <td>Female</td>\n",
       "    </tr>\n",
       "    <tr>\n",
       "      <th>1879</th>\n",
       "      <td>313</td>\n",
       "      <td>9859</td>\n",
       "      <td>30209.181790</td>\n",
       "      <td>Level 4 Recovery</td>\n",
       "      <td>58</td>\n",
       "      <td>Female</td>\n",
       "    </tr>\n",
       "    <tr>\n",
       "      <th>1880</th>\n",
       "      <td>1781</td>\n",
       "      <td>9920</td>\n",
       "      <td>20386.232190</td>\n",
       "      <td>Level 4 Recovery</td>\n",
       "      <td>67</td>\n",
       "      <td>Female</td>\n",
       "    </tr>\n",
       "    <tr>\n",
       "      <th>1881</th>\n",
       "      <td>522</td>\n",
       "      <td>9964</td>\n",
       "      <td>16706.305920</td>\n",
       "      <td>Level 4 Recovery</td>\n",
       "      <td>53</td>\n",
       "      <td>Male</td>\n",
       "    </tr>\n",
       "  </tbody>\n",
       "</table>\n",
       "<p>1882 rows × 6 columns</p>\n",
       "</div>"
      ],
      "text/plain": [
       "        id  expected_recovery_amount  actual_recovery_amount  \\\n",
       "0     2030                       194              263.540000   \n",
       "1     1150                       486              416.090000   \n",
       "2      380                       527              429.350000   \n",
       "3     1838                       536              296.990000   \n",
       "4     1995                       541              346.385000   \n",
       "...    ...                       ...                     ...   \n",
       "1877   361                      9785            15388.195990   \n",
       "1878   196                      9857             9709.909257   \n",
       "1879   313                      9859            30209.181790   \n",
       "1880  1781                      9920            20386.232190   \n",
       "1881   522                      9964            16706.305920   \n",
       "\n",
       "     recovery_strategy  age     sex  \n",
       "0     Level 0 Recovery   19    Male  \n",
       "1     Level 0 Recovery   25  Female  \n",
       "2     Level 0 Recovery   27    Male  \n",
       "3     Level 0 Recovery   25    Male  \n",
       "4     Level 0 Recovery   34    Male  \n",
       "...                ...  ...     ...  \n",
       "1877  Level 4 Recovery   65  Female  \n",
       "1878  Level 4 Recovery   68  Female  \n",
       "1879  Level 4 Recovery   58  Female  \n",
       "1880  Level 4 Recovery   67  Female  \n",
       "1881  Level 4 Recovery   53    Male  \n",
       "\n",
       "[1882 rows x 6 columns]"
      ]
     },
     "execution_count": 38,
     "metadata": {},
     "output_type": "execute_result"
    }
   ],
   "source": [
    "# convert a relation back to a pandas data frame\n",
    "rel.to_df()"
   ]
  },
  {
   "cell_type": "code",
   "execution_count": 40,
   "metadata": {},
   "outputs": [],
   "source": [
    "complaints = duckdb.from_csv_auto(\"/Users/mjboothaus/data/CFPB/complaints.csv\")"
   ]
  },
  {
   "cell_type": "code",
   "execution_count": 42,
   "metadata": {},
   "outputs": [
    {
     "data": {
      "text/html": [
       "<div>\n",
       "<style scoped>\n",
       "    .dataframe tbody tr th:only-of-type {\n",
       "        vertical-align: middle;\n",
       "    }\n",
       "\n",
       "    .dataframe tbody tr th {\n",
       "        vertical-align: top;\n",
       "    }\n",
       "\n",
       "    .dataframe thead th {\n",
       "        text-align: right;\n",
       "    }\n",
       "</style>\n",
       "<table border=\"1\" class=\"dataframe\">\n",
       "  <thead>\n",
       "    <tr style=\"text-align: right;\">\n",
       "      <th></th>\n",
       "      <th>Date received</th>\n",
       "      <th>Product</th>\n",
       "      <th>Sub-product</th>\n",
       "      <th>Issue</th>\n",
       "      <th>Sub-issue</th>\n",
       "      <th>Consumer complaint narrative</th>\n",
       "      <th>Company public response</th>\n",
       "      <th>Company</th>\n",
       "      <th>State</th>\n",
       "      <th>ZIP code</th>\n",
       "      <th>Tags</th>\n",
       "      <th>Consumer consent provided?</th>\n",
       "      <th>Submitted via</th>\n",
       "      <th>Date sent to company</th>\n",
       "      <th>Company response to consumer</th>\n",
       "      <th>Timely response?</th>\n",
       "      <th>Consumer disputed?</th>\n",
       "      <th>Complaint ID</th>\n",
       "    </tr>\n",
       "  </thead>\n",
       "  <tbody>\n",
       "    <tr>\n",
       "      <th>0</th>\n",
       "      <td>2019-06-13</td>\n",
       "      <td>Credit reporting, credit repair services, or o...</td>\n",
       "      <td>Credit reporting</td>\n",
       "      <td>Incorrect information on your report</td>\n",
       "      <td>Information belongs to someone else</td>\n",
       "      <td>NaN</td>\n",
       "      <td>NaN</td>\n",
       "      <td>CAPITAL ONE FINANCIAL CORPORATION</td>\n",
       "      <td>PA</td>\n",
       "      <td>186XX</td>\n",
       "      <td>NaN</td>\n",
       "      <td>Consent not provided</td>\n",
       "      <td>Web</td>\n",
       "      <td>2019-06-13</td>\n",
       "      <td>Closed with explanation</td>\n",
       "      <td>Yes</td>\n",
       "      <td>N/A</td>\n",
       "      <td>3274605</td>\n",
       "    </tr>\n",
       "    <tr>\n",
       "      <th>1</th>\n",
       "      <td>2019-04-01</td>\n",
       "      <td>Credit reporting, credit repair services, or o...</td>\n",
       "      <td>Credit reporting</td>\n",
       "      <td>Incorrect information on your report</td>\n",
       "      <td>Account status incorrect</td>\n",
       "      <td>NaN</td>\n",
       "      <td>Company has responded to the consumer and the ...</td>\n",
       "      <td>TRANSUNION INTERMEDIATE HOLDINGS, INC.</td>\n",
       "      <td>PA</td>\n",
       "      <td>19067</td>\n",
       "      <td>NaN</td>\n",
       "      <td>Consent not provided</td>\n",
       "      <td>Web</td>\n",
       "      <td>2019-04-01</td>\n",
       "      <td>Closed with explanation</td>\n",
       "      <td>Yes</td>\n",
       "      <td>N/A</td>\n",
       "      <td>3198225</td>\n",
       "    </tr>\n",
       "    <tr>\n",
       "      <th>2</th>\n",
       "      <td>2021-05-28</td>\n",
       "      <td>Credit reporting, credit repair services, or o...</td>\n",
       "      <td>Credit reporting</td>\n",
       "      <td>Unable to get your credit report or credit score</td>\n",
       "      <td>Problem getting your free annual credit report</td>\n",
       "      <td>NaN</td>\n",
       "      <td>NaN</td>\n",
       "      <td>EQUIFAX, INC.</td>\n",
       "      <td>WA</td>\n",
       "      <td>98026</td>\n",
       "      <td>NaN</td>\n",
       "      <td>Other</td>\n",
       "      <td>Web</td>\n",
       "      <td>2021-05-28</td>\n",
       "      <td>Closed with explanation</td>\n",
       "      <td>Yes</td>\n",
       "      <td>N/A</td>\n",
       "      <td>4412190</td>\n",
       "    </tr>\n",
       "    <tr>\n",
       "      <th>3</th>\n",
       "      <td>2021-05-28</td>\n",
       "      <td>Credit reporting, credit repair services, or o...</td>\n",
       "      <td>Credit reporting</td>\n",
       "      <td>Improper use of your report</td>\n",
       "      <td>Credit inquiries on your report that you don't...</td>\n",
       "      <td>NaN</td>\n",
       "      <td>NaN</td>\n",
       "      <td>EQUIFAX, INC.</td>\n",
       "      <td>AL</td>\n",
       "      <td>35211</td>\n",
       "      <td>NaN</td>\n",
       "      <td>Consent not provided</td>\n",
       "      <td>Web</td>\n",
       "      <td>2021-05-28</td>\n",
       "      <td>Closed with explanation</td>\n",
       "      <td>Yes</td>\n",
       "      <td>N/A</td>\n",
       "      <td>4414038</td>\n",
       "    </tr>\n",
       "    <tr>\n",
       "      <th>4</th>\n",
       "      <td>2021-06-16</td>\n",
       "      <td>Credit reporting, credit repair services, or o...</td>\n",
       "      <td>Credit reporting</td>\n",
       "      <td>Incorrect information on your report</td>\n",
       "      <td>Information belongs to someone else</td>\n",
       "      <td>not mine : FCRA violations : see attachments f...</td>\n",
       "      <td>NaN</td>\n",
       "      <td>EQUIFAX, INC.</td>\n",
       "      <td>TX</td>\n",
       "      <td>773XX</td>\n",
       "      <td>NaN</td>\n",
       "      <td>Consent provided</td>\n",
       "      <td>Web</td>\n",
       "      <td>2021-06-16</td>\n",
       "      <td>Closed with explanation</td>\n",
       "      <td>Yes</td>\n",
       "      <td>N/A</td>\n",
       "      <td>4467932</td>\n",
       "    </tr>\n",
       "  </tbody>\n",
       "</table>\n",
       "</div>"
      ],
      "text/plain": [
       "  Date received                                            Product  \\\n",
       "0    2019-06-13  Credit reporting, credit repair services, or o...   \n",
       "1    2019-04-01  Credit reporting, credit repair services, or o...   \n",
       "2    2021-05-28  Credit reporting, credit repair services, or o...   \n",
       "3    2021-05-28  Credit reporting, credit repair services, or o...   \n",
       "4    2021-06-16  Credit reporting, credit repair services, or o...   \n",
       "\n",
       "        Sub-product                                             Issue  \\\n",
       "0  Credit reporting              Incorrect information on your report   \n",
       "1  Credit reporting              Incorrect information on your report   \n",
       "2  Credit reporting  Unable to get your credit report or credit score   \n",
       "3  Credit reporting                       Improper use of your report   \n",
       "4  Credit reporting              Incorrect information on your report   \n",
       "\n",
       "                                           Sub-issue  \\\n",
       "0                Information belongs to someone else   \n",
       "1                           Account status incorrect   \n",
       "2     Problem getting your free annual credit report   \n",
       "3  Credit inquiries on your report that you don't...   \n",
       "4                Information belongs to someone else   \n",
       "\n",
       "                        Consumer complaint narrative  \\\n",
       "0                                                NaN   \n",
       "1                                                NaN   \n",
       "2                                                NaN   \n",
       "3                                                NaN   \n",
       "4  not mine : FCRA violations : see attachments f...   \n",
       "\n",
       "                             Company public response  \\\n",
       "0                                                NaN   \n",
       "1  Company has responded to the consumer and the ...   \n",
       "2                                                NaN   \n",
       "3                                                NaN   \n",
       "4                                                NaN   \n",
       "\n",
       "                                  Company State ZIP code Tags  \\\n",
       "0       CAPITAL ONE FINANCIAL CORPORATION    PA    186XX  NaN   \n",
       "1  TRANSUNION INTERMEDIATE HOLDINGS, INC.    PA    19067  NaN   \n",
       "2                           EQUIFAX, INC.    WA    98026  NaN   \n",
       "3                           EQUIFAX, INC.    AL    35211  NaN   \n",
       "4                           EQUIFAX, INC.    TX    773XX  NaN   \n",
       "\n",
       "  Consumer consent provided? Submitted via Date sent to company  \\\n",
       "0       Consent not provided           Web           2019-06-13   \n",
       "1       Consent not provided           Web           2019-04-01   \n",
       "2                      Other           Web           2021-05-28   \n",
       "3       Consent not provided           Web           2021-05-28   \n",
       "4           Consent provided           Web           2021-06-16   \n",
       "\n",
       "  Company response to consumer Timely response? Consumer disputed?  \\\n",
       "0      Closed with explanation              Yes                N/A   \n",
       "1      Closed with explanation              Yes                N/A   \n",
       "2      Closed with explanation              Yes                N/A   \n",
       "3      Closed with explanation              Yes                N/A   \n",
       "4      Closed with explanation              Yes                N/A   \n",
       "\n",
       "   Complaint ID  \n",
       "0       3274605  \n",
       "1       3198225  \n",
       "2       4412190  \n",
       "3       4414038  \n",
       "4       4467932  "
      ]
     },
     "execution_count": 42,
     "metadata": {},
     "output_type": "execute_result"
    }
   ],
   "source": [
    "complaints.to_df().head()"
   ]
  },
  {
   "cell_type": "code",
   "execution_count": 43,
   "metadata": {},
   "outputs": [
    {
     "data": {
      "text/plain": [
       "['DATE',\n",
       " 'VARCHAR',\n",
       " 'VARCHAR',\n",
       " 'VARCHAR',\n",
       " 'VARCHAR',\n",
       " 'VARCHAR',\n",
       " 'VARCHAR',\n",
       " 'VARCHAR',\n",
       " 'VARCHAR',\n",
       " 'VARCHAR',\n",
       " 'VARCHAR',\n",
       " 'VARCHAR',\n",
       " 'VARCHAR',\n",
       " 'DATE',\n",
       " 'VARCHAR',\n",
       " 'VARCHAR',\n",
       " 'VARCHAR',\n",
       " 'INTEGER']"
      ]
     },
     "execution_count": 43,
     "metadata": {},
     "output_type": "execute_result"
    }
   ],
   "source": [
    "complaints.types"
   ]
  },
  {
   "cell_type": "code",
   "execution_count": null,
   "metadata": {},
   "outputs": [],
   "source": []
  }
 ],
 "metadata": {
  "interpreter": {
   "hash": "3086ab3d90372c825407b804b6256634f337f6e28cf9335d0f6d2a4e138be96d"
  },
  "kernelspec": {
   "display_name": "Python 3.8.10 64-bit ('try-duckdb': conda)",
   "language": "python",
   "name": "python3810jvsc74a57bd03086ab3d90372c825407b804b6256634f337f6e28cf9335d0f6d2a4e138be96d"
  },
  "language_info": {
   "codemirror_mode": {
    "name": "ipython",
    "version": 3
   },
   "file_extension": ".py",
   "mimetype": "text/x-python",
   "name": "python",
   "nbconvert_exporter": "python",
   "pygments_lexer": "ipython3",
   "version": "3.8.10"
  }
 },
 "nbformat": 4,
 "nbformat_minor": 2
}
